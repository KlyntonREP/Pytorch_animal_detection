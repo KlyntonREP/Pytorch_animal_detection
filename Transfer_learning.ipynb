{
  "cells": [
    {
      "cell_type": "code",
      "execution_count": 1,
      "metadata": {
        "id": "HqElvf2VxPIT"
      },
      "outputs": [],
      "source": [
        "# 1. Import Libraries\n",
        "from google.colab import drive\n",
        "import os\n",
        "import numpy as np"
      ]
    },
    {
      "cell_type": "code",
      "execution_count": 2,
      "metadata": {
        "id": "3iTVGgtP-_o1",
        "colab": {
          "base_uri": "https://localhost:8080/"
        },
        "outputId": "ff25b1fa-2c1e-4181-ae30-5e17496ae40c"
      },
      "outputs": [
        {
          "output_type": "stream",
          "name": "stdout",
          "text": [
            "Drive already mounted at /content/drive; to attempt to forcibly remount, call drive.mount(\"/content/drive\", force_remount=True).\n",
            "Contents of the Animal_species folder:\n",
            "['train', 'validation', 'test']\n"
          ]
        }
      ],
      "source": [
        "# Mount Google Drive\n",
        "drive.mount('/content/drive')\n",
        "\n",
        "# Define the path to the Animal_species folder\n",
        "base_dir = '/content/drive/MyDrive/Animal_species_split'\n",
        "\n",
        "# Verify the contents of the Animal_species folder\n",
        "print(\"Contents of the Animal_species folder:\")\n",
        "print(os.listdir(base_dir))\n"
      ]
    },
    {
      "cell_type": "code",
      "execution_count": 3,
      "metadata": {
        "id": "-9BLmxd655wL",
        "colab": {
          "base_uri": "https://localhost:8080/"
        },
        "outputId": "db54434a-3dc6-48c9-c76e-20880dff3736"
      },
      "outputs": [
        {
          "output_type": "stream",
          "name": "stdout",
          "text": [
            "['buffalo' 'elephant' 'rhino' 'zebra']\n"
          ]
        }
      ],
      "source": [
        "# get the class names programmatically\n",
        "import pathlib\n",
        "data_dir = pathlib.Path('/content/drive/MyDrive/Animal_species_split/train') # turn our training path into a Python path\n",
        "class_names = np.array(sorted([item.name for item in data_dir.glob('*')])) # created a list of class_names from the subdirectories\n",
        "print(class_names)"
      ]
    },
    {
      "cell_type": "code",
      "execution_count": 4,
      "metadata": {
        "id": "_P319x8v61BN"
      },
      "outputs": [],
      "source": [
        "# View an image\n",
        "import matplotlib.pyplot as plt\n",
        "import matplotlib.image as mpimg\n",
        "import random\n",
        "\n",
        "def view_random_image(target_dir, target_class):\n",
        "  # Setup target directory (we'll view images from here)\n",
        "  target_folder = os.path.join(target_dir, target_class)\n",
        "\n",
        "  # Get a random image path\n",
        "  random_image = random.sample(os.listdir(target_folder), 1)[0]\n",
        "\n",
        "  if random_image.lower().endswith(('.png', '.jpg', '.jpeg')):\n",
        "\n",
        "    print(f\"Random image: {random_image}\")\n",
        "\n",
        "    # Read in the image and plot it using matplotlib\n",
        "    img = mpimg.imread(target_folder + \"/\" + random_image)\n",
        "    plt.imshow(img)\n",
        "    plt.title(target_class)\n",
        "    plt.axis(\"off\");\n",
        "\n",
        "    print(f\"Image shape: {img.shape}\") # show the shape of the image\n",
        "\n",
        "    return img\n",
        "  else:\n",
        "    print(f\"Not an image, Please run the cell again\")"
      ]
    },
    {
      "cell_type": "code",
      "execution_count": 5,
      "metadata": {
        "id": "XxpSY9IE8KKs",
        "colab": {
          "base_uri": "https://localhost:8080/"
        },
        "outputId": "de4a84ee-7a78-46e0-a605-a81e5a22fccb"
      },
      "outputs": [
        {
          "output_type": "stream",
          "name": "stdout",
          "text": [
            "Not an image, Please run the cell again\n"
          ]
        }
      ],
      "source": [
        "# View a random image from the training dataset\n",
        "img = view_random_image(target_dir=\"/content/drive/MyDrive/Animal_species_split/train/\",\n",
        "                        target_class=\"buffalo\")"
      ]
    },
    {
      "cell_type": "code",
      "execution_count": 6,
      "metadata": {
        "id": "idKYN2G18sz6",
        "colab": {
          "base_uri": "https://localhost:8080/"
        },
        "outputId": "d8ddf883-7ace-49c2-a09d-7f2d2960a37f"
      },
      "outputs": [
        {
          "output_type": "stream",
          "name": "stdout",
          "text": [
            "Training images:\n",
            "Found 1052 images belonging to 4 classes.\n",
            "Testing images:\n",
            "Found 160 images belonging to 4 classes.\n"
          ]
        }
      ],
      "source": [
        "# Setup data inputs\n",
        "from tensorflow.keras.preprocessing.image import ImageDataGenerator\n",
        "\n",
        "IMAGE_SHAPE = (224, 224)\n",
        "BATCH_SIZE = 32\n",
        "\n",
        "train_dir = \"/content/drive/MyDrive/Animal_species_split/train/\"\n",
        "test_dir = \"/content/drive/MyDrive/Animal_species_split/test/\"\n",
        "\n",
        "train_datagen = ImageDataGenerator(rescale=1/255.)\n",
        "test_datagen = ImageDataGenerator(rescale=1/255.)\n",
        "\n",
        "print(\"Training images:\")\n",
        "train_data = train_datagen.flow_from_directory(train_dir,\n",
        "                                               target_size=IMAGE_SHAPE,\n",
        "                                               batch_size=BATCH_SIZE,\n",
        "                                               class_mode=\"categorical\")\n",
        "\n",
        "print(\"Testing images:\")\n",
        "test_data = train_datagen.flow_from_directory(test_dir,\n",
        "                                              target_size=IMAGE_SHAPE,\n",
        "                                              batch_size=BATCH_SIZE,\n",
        "                                              class_mode=\"categorical\")"
      ]
    },
    {
      "cell_type": "code",
      "execution_count": 7,
      "metadata": {
        "id": "ScYKDIVPBmGE"
      },
      "outputs": [],
      "source": [
        "# Create tensorboard callback (functionized because need to create a new one for each model)\n",
        "import datetime\n",
        "def create_tensorboard_callback(dir_name, experiment_name):\n",
        "  log_dir = dir_name + \"/\" + experiment_name + \"/\" + datetime.datetime.now().strftime(\"%Y%m%d-%H%M%S\")\n",
        "  tensorboard_callback = tf.keras.callbacks.TensorBoard(\n",
        "      log_dir=log_dir\n",
        "  )\n",
        "  print(f\"Saving TensorBoard log files to: {log_dir}\")\n",
        "  return tensorboard_callback"
      ]
    },
    {
      "cell_type": "markdown",
      "metadata": {
        "id": "hbJqSMj4Gr43"
      },
      "source": [
        "## Creating our model using transfer learing from tensorflowhub\n",
        "Our transfer learning model was gotten from: https://tfhub.dev/\n",
        "\n",
        "Resnet: https://www.kaggle.com/models/google/resnet-v2\n",
        "\n",
        "\n"
      ]
    },
    {
      "cell_type": "code",
      "execution_count": 8,
      "metadata": {
        "id": "cObKL4_jRbR6"
      },
      "outputs": [],
      "source": [
        "import tensorflow as tf\n",
        "import tensorflow_hub as hub\n",
        "from tensorflow.keras import layers"
      ]
    },
    {
      "cell_type": "code",
      "execution_count": 9,
      "metadata": {
        "id": "L7aZ6Hn4Khx-"
      },
      "outputs": [],
      "source": [
        "# Resnet 50 V2 feature vector\n",
        "resnet_url = \"https://www.kaggle.com/models/google/resnet-v2/TensorFlow2/101-classification/2\""
      ]
    },
    {
      "cell_type": "code",
      "execution_count": 10,
      "metadata": {
        "id": "KuUKnltURF3w"
      },
      "outputs": [],
      "source": [
        "\n",
        "def create_model(model_url, num_classes=4):\n",
        "  \"\"\"Takes a TensorFlow Hub URL and creates a Keras Sequential model with it.\n",
        "\n",
        "  Args:\n",
        "    model_url (str): A TensorFlow Hub feature extraction URL.\n",
        "    num_classes (int): Number of output neurons in output layer,\n",
        "      should be equal to number of target classes, default 10.\n",
        "\n",
        "  Returns:\n",
        "    An uncompiled Keras Sequential model with model_url as feature\n",
        "    extractor layer and Dense output layer with num_classes outputs.\n",
        "  \"\"\"\n",
        "  # Download the pretrained model and save it as a Keras layer\n",
        "  feature_extractor_layer = hub.KerasLayer(model_url,\n",
        "                                           trainable=False, # freeze the underlying patterns\n",
        "                                           name='feature_extraction_layer',\n",
        "                                           input_shape=IMAGE_SHAPE+(3,)) # define the input image shape\n",
        "\n",
        "  # Creating our own model\n",
        "  model = tf.keras.Sequential([\n",
        "    feature_extractor_layer, # use the feature extraction layer as the base\n",
        "    layers.Dense(num_classes, activation='softmax', name='output_layer') # create our own output layer\n",
        "  ])\n",
        "\n",
        "  return model"
      ]
    },
    {
      "cell_type": "code",
      "execution_count": 11,
      "metadata": {
        "id": "_DeHqLduRNUN"
      },
      "outputs": [],
      "source": [
        "# Create model\n",
        "resnet_model = create_model(resnet_url, num_classes=4)\n",
        "\n",
        "# Compile\n",
        "resnet_model.compile(loss='categorical_crossentropy', optimizer=tf.keras.optimizers.Adam(), metrics=['accuracy'])"
      ]
    },
    {
      "cell_type": "code",
      "execution_count": 12,
      "metadata": {
        "colab": {
          "base_uri": "https://localhost:8080/"
        },
        "id": "81eXCP_JR9yD",
        "outputId": "ca41ae66-534d-48dd-d346-5d99f6b06331"
      },
      "outputs": [
        {
          "output_type": "stream",
          "name": "stdout",
          "text": [
            "Saving TensorBoard log files to: tensorflow_hub/resnet50V2/20240523-220555\n",
            "Epoch 1/5\n",
            "33/33 [==============================] - 384s 11s/step - loss: 0.3924 - accuracy: 0.8707 - val_loss: 0.1375 - val_accuracy: 0.9563\n",
            "Epoch 2/5\n",
            "33/33 [==============================] - 393s 12s/step - loss: 0.1098 - accuracy: 0.9648 - val_loss: 0.1401 - val_accuracy: 0.9625\n",
            "Epoch 3/5\n",
            "33/33 [==============================] - 394s 12s/step - loss: 0.0816 - accuracy: 0.9791 - val_loss: 0.0965 - val_accuracy: 0.9688\n",
            "Epoch 4/5\n",
            "33/33 [==============================] - 385s 12s/step - loss: 0.0620 - accuracy: 0.9857 - val_loss: 0.0973 - val_accuracy: 0.9625\n",
            "Epoch 5/5\n",
            "33/33 [==============================] - 357s 11s/step - loss: 0.0514 - accuracy: 0.9857 - val_loss: 0.0919 - val_accuracy: 0.9688\n"
          ]
        }
      ],
      "source": [
        "resnet_history = resnet_model.fit(train_data,\n",
        "                                  epochs=5,\n",
        "                                  steps_per_epoch=len(train_data),\n",
        "                                  validation_data=test_data,\n",
        "                                  validation_steps=len(test_data),\n",
        "                                  # Add TensorBoard callback to model (callbacks parameter takes a list)\n",
        "                                  callbacks=[create_tensorboard_callback(dir_name=\"tensorflow_hub\", # save experiment logs here\n",
        "                                                                         experiment_name=\"resnet50V2\")]) # name of log files\n"
      ]
    },
    {
      "cell_type": "code",
      "execution_count": 13,
      "metadata": {
        "id": "j8WS6Y8Kc5W_"
      },
      "outputs": [],
      "source": [
        "# If you wanted to, you could really turn this into a helper function to load in with a helper.py script...\n",
        "import matplotlib.pyplot as plt\n",
        "\n",
        "# Plot the validation and training data separately\n",
        "def plot_loss_curves(history):\n",
        "  \"\"\"\n",
        "  Returns separate loss curves for training and validation metrics.\n",
        "  \"\"\"\n",
        "  loss = history.history['loss']\n",
        "  val_loss = history.history['val_loss']\n",
        "\n",
        "  accuracy = history.history['accuracy']\n",
        "  val_accuracy = history.history['val_accuracy']\n",
        "\n",
        "  epochs = range(len(history.history['loss']))\n",
        "\n",
        "  # Plot loss\n",
        "  plt.plot(epochs, loss, label='training_loss')\n",
        "  plt.plot(epochs, val_loss, label='val_loss')\n",
        "  plt.title('Loss')\n",
        "  plt.xlabel('Epochs')\n",
        "  plt.legend()\n",
        "\n",
        "  # Plot accuracy\n",
        "  plt.figure()\n",
        "  plt.plot(epochs, accuracy, label='training_accuracy')\n",
        "  plt.plot(epochs, val_accuracy, label='val_accuracy')\n",
        "  plt.title('Accuracy')\n",
        "  plt.xlabel('Epochs')\n",
        "  plt.legend();"
      ]
    },
    {
      "cell_type": "code",
      "execution_count": 14,
      "metadata": {
        "id": "wR6AqU5JfRvm",
        "colab": {
          "base_uri": "https://localhost:8080/",
          "height": 927
        },
        "outputId": "a6cbe87c-f300-4c33-f054-976b99c5ddd7"
      },
      "outputs": [
        {
          "output_type": "display_data",
          "data": {
            "text/plain": [
              "<Figure size 640x480 with 1 Axes>"
            ],
            "image/png": "[encoded data removed]"
          },
          "metadata": {}
        },
        {
          "output_type": "display_data",
          "data": {
            "text/plain": [
              "<Figure size 640x480 with 1 Axes>"
            ],
            "image/png": "[encoded data removed]"
          },
          "metadata": {}
        }
      ],
      "source": [
        "plot_loss_curves(resnet_history)"
      ]
    },
    {
      "cell_type": "code",
      "execution_count": 15,
      "metadata": {
        "id": "sZWeoQzNfXLi",
        "colab": {
          "base_uri": "https://localhost:8080/"
        },
        "outputId": "66415d9d-7db3-46cd-f7a1-6c37f39ecb02"
      },
      "outputs": [
        {
          "output_type": "stream",
          "name": "stdout",
          "text": [
            "Model: \"sequential\"\n",
            "_________________________________________________________________\n",
            " Layer (type)                Output Shape              Param #   \n",
            "=================================================================\n",
            " feature_extraction_layer (  (None, 1001)              44677609  \n",
            " KerasLayer)                                                     \n",
            "                                                                 \n",
            " output_layer (Dense)        (None, 4)                 4008      \n",
            "                                                                 \n",
            "=================================================================\n",
            "Total params: 44681617 (170.45 MB)\n",
            "Trainable params: 4008 (15.66 KB)\n",
            "Non-trainable params: 44677609 (170.43 MB)\n",
            "_________________________________________________________________\n"
          ]
        }
      ],
      "source": [
        "# Resnet summary\n",
        "resnet_model.summary()"
      ]
    },
    {
      "cell_type": "code",
      "source": [
        "pred_prob = resnet_model.evaluate(test_data, verbose=1);"
      ],
      "metadata": {
        "colab": {
          "base_uri": "https://localhost:8080/"
        },
        "id": "3Ql_vEku0Clg",
        "outputId": "b2724da1-2595-402b-b44a-0cb836fe00a3"
      },
      "execution_count": 16,
      "outputs": [
        {
          "output_type": "stream",
          "name": "stdout",
          "text": [
            "5/5 [==============================] - 46s 9s/step - loss: 0.0919 - accuracy: 0.9688\n"
          ]
        }
      ]
    }
  ],
  "metadata": {
    "accelerator": "GPU",
    "colab": {
      "gpuType": "T4",
      "provenance": []
    },
    "kernelspec": {
      "display_name": "Python 3",
      "name": "python3"
    },
    "language_info": {
      "name": "python"
    }
  },
  "nbformat": 4,
  "nbformat_minor": 0
}